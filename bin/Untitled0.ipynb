{
 "metadata": {
  "name": ""
 },
 "nbformat": 3,
 "nbformat_minor": 0,
 "worksheets": [
  {
   "cells": [
    {
     "cell_type": "code",
     "collapsed": false,
     "input": [
      "import numpy as np\n",
      "from scipy.integrate import simps\n",
      "from scipy.integrate import trapz"
     ],
     "language": "python",
     "metadata": {},
     "outputs": [],
     "prompt_number": 130
    },
    {
     "cell_type": "code",
     "collapsed": false,
     "input": [
      "data =np.array([[1,2,3,4,5],[10,11,12,14]])"
     ],
     "language": "python",
     "metadata": {},
     "outputs": [],
     "prompt_number": 6
    },
    {
     "cell_type": "code",
     "collapsed": false,
     "input": [
      "a = lambda tau: [s*(3*f*tau) for s,f in zip(data[0],data[1])]"
     ],
     "language": "python",
     "metadata": {},
     "outputs": [],
     "prompt_number": 19
    },
    {
     "cell_type": "code",
     "collapsed": false,
     "input": [
      "import glob"
     ],
     "language": "python",
     "metadata": {},
     "outputs": [],
     "prompt_number": 27
    },
    {
     "cell_type": "code",
     "collapsed": false,
     "input": [
      "load pdh2al.py"
     ],
     "language": "python",
     "metadata": {},
     "outputs": [],
     "prompt_number": 23
    },
    {
     "cell_type": "code",
     "collapsed": false,
     "input": [
      "import numpy as np\n",
      "import scipy as sp\n",
      "import matplotlib.pyplot as plt\n",
      "import math\n",
      "import sys\n",
      "import argparse\n",
      "from scipy.integrate import simps\n",
      "#FUNCTIONS DEFINED########\n",
      "def al(tau, noise_psd, freq):\n",
      "    noise_psd = noise_psd*10.**24.\n",
      "    kern = lambda t:[ s*np.sin(np.pi*f*t)**4/(np.pi*carrier*t)**2 for s,f in zip(noise_psd,freq)]\n",
      "    kernFreq = lambda t:[ s*np.sin(np.pi*f*t)**4./(np.pi*f*t)**2. for s,f in zip(noise_psd,freq)]\n",
      "    if type == 'phase':\n",
      "        out =  2*trapz(kern(tau),freq)\n",
      "    elif type =='freq':\n",
      "        out = 2. *trapz(kernFreq(tau)[1:-1],freq[1:-1])*10.**-24\n",
      "    return out\n",
      "glob.glob(\"*.dat\")\n"
     ],
     "language": "python",
     "metadata": {},
     "outputs": [
      {
       "metadata": {},
       "output_type": "pyout",
       "prompt_number": 562,
       "text": [
        "['01282014-1519-s1.dat', 'totalFreqPDH.dat']"
       ]
      }
     ],
     "prompt_number": 562
    },
    {
     "cell_type": "code",
     "collapsed": false,
     "input": [
      "data = np.loadtxt(glob.glob(\"*total*.dat\")[0],unpack=True)\n",
      "type = 'freq'\n",
      "freak = np.loadtxt(glob.glob(\"0*.dat\")[0], unpack=True)\n",
      "freq = [f for f in freak[0] if f<10**6]\n",
      "len(freq)"
     ],
     "language": "python",
     "metadata": {},
     "outputs": [
      {
       "metadata": {},
       "output_type": "pyout",
       "prompt_number": 115,
       "text": [
        "8004"
       ]
      }
     ],
     "prompt_number": 115
    },
    {
     "cell_type": "code",
     "collapsed": false,
     "input": [
      "tau = np.linspace(10.**(-6),1,num=100)\n",
      "tau\n"
     ],
     "language": "python",
     "metadata": {},
     "outputs": [
      {
       "metadata": {},
       "output_type": "pyout",
       "prompt_number": 200,
       "text": [
        "array([  1.00000000e-06,   1.01020000e-02,   2.02030000e-02,\n",
        "         3.03040000e-02,   4.04050000e-02,   5.05060000e-02,\n",
        "         6.06070000e-02,   7.07080000e-02,   8.08090000e-02,\n",
        "         9.09100000e-02,   1.01011000e-01,   1.11112000e-01,\n",
        "         1.21213000e-01,   1.31314000e-01,   1.41415000e-01,\n",
        "         1.51516000e-01,   1.61617000e-01,   1.71718000e-01,\n",
        "         1.81819000e-01,   1.91920000e-01,   2.02021000e-01,\n",
        "         2.12122000e-01,   2.22223000e-01,   2.32324000e-01,\n",
        "         2.42425000e-01,   2.52526000e-01,   2.62627000e-01,\n",
        "         2.72728000e-01,   2.82829000e-01,   2.92930000e-01,\n",
        "         3.03031000e-01,   3.13132000e-01,   3.23233000e-01,\n",
        "         3.33334000e-01,   3.43435000e-01,   3.53536000e-01,\n",
        "         3.63637000e-01,   3.73738000e-01,   3.83839000e-01,\n",
        "         3.93940000e-01,   4.04041000e-01,   4.14142000e-01,\n",
        "         4.24243000e-01,   4.34344000e-01,   4.44445000e-01,\n",
        "         4.54546000e-01,   4.64647000e-01,   4.74748000e-01,\n",
        "         4.84849000e-01,   4.94950000e-01,   5.05051000e-01,\n",
        "         5.15152000e-01,   5.25253000e-01,   5.35354000e-01,\n",
        "         5.45455000e-01,   5.55556000e-01,   5.65657000e-01,\n",
        "         5.75758000e-01,   5.85859000e-01,   5.95960000e-01,\n",
        "         6.06061000e-01,   6.16162000e-01,   6.26263000e-01,\n",
        "         6.36364000e-01,   6.46465000e-01,   6.56566000e-01,\n",
        "         6.66667000e-01,   6.76768000e-01,   6.86869000e-01,\n",
        "         6.96970000e-01,   7.07071000e-01,   7.17172000e-01,\n",
        "         7.27273000e-01,   7.37374000e-01,   7.47475000e-01,\n",
        "         7.57576000e-01,   7.67677000e-01,   7.77778000e-01,\n",
        "         7.87879000e-01,   7.97980000e-01,   8.08081000e-01,\n",
        "         8.18182000e-01,   8.28283000e-01,   8.38384000e-01,\n",
        "         8.48485000e-01,   8.58586000e-01,   8.68687000e-01,\n",
        "         8.78788000e-01,   8.88889000e-01,   8.98990000e-01,\n",
        "         9.09091000e-01,   9.19192000e-01,   9.29293000e-01,\n",
        "         9.39394000e-01,   9.49495000e-01,   9.59596000e-01,\n",
        "         9.69697000e-01,   9.79798000e-01,   9.89899000e-01,\n",
        "         1.00000000e+00])"
       ]
      }
     ],
     "prompt_number": 200
    },
    {
     "cell_type": "code",
     "collapsed": false,
     "input": [
      "len(data[:len(freq)])"
     ],
     "language": "python",
     "metadata": {},
     "outputs": [
      {
       "metadata": {},
       "output_type": "pyout",
       "prompt_number": 120,
       "text": [
        "8004"
       ]
      }
     ],
     "prompt_number": 120
    },
    {
     "cell_type": "code",
     "collapsed": false,
     "input": [
      "var = [al(t,data[:len(freq)]/(2*10**14)**2,freq) for t in tau]"
     ],
     "language": "python",
     "metadata": {},
     "outputs": [],
     "prompt_number": 201
    },
    {
     "cell_type": "code",
     "collapsed": false,
     "input": [
      "plt.loglog(tau, var)"
     ],
     "language": "python",
     "metadata": {},
     "outputs": [
      {
       "metadata": {},
       "output_type": "pyout",
       "prompt_number": 204,
       "text": [
        "[<matplotlib.lines.Line2D at 0x117366e90>]"
       ]
      },
      {
       "metadata": {},
       "output_type": "display_data",
       "png": "[encoded data removed]",
       "text": [
        "<matplotlib.figure.Figure at 0x11762e510>"
       ]
      }
     ],
     "prompt_number": 204
    },
    {
     "cell_type": "code",
     "collapsed": false,
     "input": [
      "trapz(data[:len(freq)],freq)"
     ],
     "language": "python",
     "metadata": {},
     "outputs": [
      {
       "metadata": {},
       "output_type": "pyout",
       "prompt_number": 135,
       "text": [
        "511017417.69582474"
       ]
      }
     ],
     "prompt_number": 135
    },
    {
     "cell_type": "code",
     "collapsed": false,
     "input": [
      "import matplotlib.pyplot as plt"
     ],
     "language": "python",
     "metadata": {},
     "outputs": [],
     "prompt_number": 58
    },
    {
     "cell_type": "code",
     "collapsed": false,
     "input": [
      "var"
     ],
     "language": "python",
     "metadata": {},
     "outputs": [
      {
       "metadata": {},
       "output_type": "pyout",
       "prompt_number": 122,
       "text": [
        "[418063.57157654793,\n",
        " 213318012.72017789,\n",
        " 37571306.224666007,\n",
        " 21719556.20313929,\n",
        " 6435944.376264615,\n",
        " 9077749.7944716904,\n",
        " 2461917.377261736,\n",
        " 1293903.2228682311,\n",
        " 2623940.2638727035,\n",
        " 1606455.1636274375]"
       ]
      }
     ],
     "prompt_number": 122
    },
    {
     "cell_type": "code",
     "collapsed": false,
     "input": [
      "data[1::10]/(4*10**28)"
     ],
     "language": "python",
     "metadata": {},
     "outputs": [
      {
       "metadata": {},
       "output_type": "pyout",
       "prompt_number": 192,
       "text": [
        "array([1.2251283492226295e-24, 2.7295308277572002e-24,\n",
        "       2.187961730413296e-24, 8.870801443690437e-25, 1.765928763594045e-24,\n",
        "       3.4188057561849305e-24, 8.875065136070498e-25,\n",
        "       2.719282321962693e-24, 8.40100311233666e-25, 2.05101562353727e-24,\n",
        "       1.8796010319410388e-24, 1.9839897169370115e-24,\n",
        "       5.5636678519321865e-25, 2.1934897423741455e-25,\n",
        "       7.716393602896372e-25, 2.1007316538462206e-25,\n",
        "       3.1063525511928695e-25, 4.548923325399965e-25,\n",
        "       3.991801127510921e-25, 8.749083724047378e-25, 5.37458676399918e-25,\n",
        "       1.0897304537935495e-24, 5.753157373340028e-25,\n",
        "       4.095707437769666e-25, 4.500254020829652e-25, 1.619915269630357e-24,\n",
        "       2.7463462393095694e-24, 3.562608335274417e-24,\n",
        "       2.5191318342822784e-23, 6.672811542845835e-23,\n",
        "       1.102164058391948e-23, 3.681877796623383e-24, 2.007680339306958e-23,\n",
        "       4.1265362343299794e-24, 9.039219701523e-25, 2.521008383356735e-24,\n",
        "       1.4756325281323065e-24, 5.161099507532667e-25,\n",
        "       3.590766762744731e-25, 3.6197986189503984e-25,\n",
        "       1.067806060805685e-24, 3.884477967258789e-25,\n",
        "       1.7686768614372383e-25, 8.606646350782172e-25,\n",
        "       8.988297051136786e-25, 1.0929303937842006e-24,\n",
        "       8.529849118876597e-25, 9.808944708570282e-25, 1.403193592696957e-24,\n",
        "       1.2844163044514636e-24, 8.445455020718457e-25,\n",
        "       1.0249345029755052e-24, 4.622642702144749e-25,\n",
        "       4.2037779559796125e-25, 7.522395037113034e-25,\n",
        "       1.813554248440419e-24, 8.466080498093981e-25,\n",
        "       1.0635585339216091e-24, 1.7819292711382877e-24,\n",
        "       6.27909092644114e-24, 9.774443496044636e-25, 1.770530921674533e-24,\n",
        "       2.0754807051518704e-24, 3.476791924269134e-24,\n",
        "       2.678505267366132e-24, 3.888842445081183e-24, 9.767886177138045e-24,\n",
        "       8.230079617109235e-23, 1.4845467738483333e-22,\n",
        "       1.3924486071646728e-22, 1.505702434942956e-23,\n",
        "       1.233335199724347e-23, 2.132944676314896e-23,\n",
        "       1.4980157948887323e-23, 1.4947892684729478e-24,\n",
        "       1.5609755260459455e-24, 1.7550682048883696e-24,\n",
        "       1.3047950713549495e-24, 1.476731857803331e-24,\n",
        "       6.895504186203222e-25, 1.6045386607577764e-24,\n",
        "       1.8831376754597356e-24, 7.965405363022896e-24,\n",
        "       1.5348441749807082e-24, 1.7320066774151086e-24,\n",
        "       8.48301509441981e-25, 6.753796125357677e-25, 1.5892103653490671e-24,\n",
        "       3.4533990866899696e-24, 7.880356413021199e-24,\n",
        "       2.395762853926334e-24, 2.8506351706721534e-25,\n",
        "       2.268139128660943e-25, 1.4635003972179734e-25,\n",
        "       1.708003039176601e-25, 1.6621068842520062e-25,\n",
        "       1.2489377529432189e-25, 1.997915966802401e-25,\n",
        "       1.4456774955796643e-25, 3.8349694086011703e-25,\n",
        "       1.7177302708705974e-25, 4.188890482626988e-25,\n",
        "       1.9942122512501505e-25, 2.705939369499822e-25,\n",
        "       2.698924940500187e-25, 1.2176379968900352e-25,\n",
        "       5.2170472302471265e-25, 2.142250093120798e-25,\n",
        "       2.7526996629807454e-25, 6.274510875666247e-25,\n",
        "       8.898410844787436e-25, 1.017453520451413e-24, 9.527501418903852e-25,\n",
        "       1.261196670599121e-24, 1.2234415833521852e-24, 5.37766714907751e-25,\n",
        "       5.741747903045213e-25, 3.3367153647221963e-25,\n",
        "       3.1523456386599825e-25, 5.2713478696266035e-25,\n",
        "       1.0442774168687991e-25, 3.7630640069982877e-25,\n",
        "       7.592546697224569e-25, 3.1154598713420705e-25,\n",
        "       1.7405478653588491e-25, 1.6123630918089653e-25,\n",
        "       2.3783803059776625e-25, 2.969240695842246e-25,\n",
        "       1.775626612294922e-25, 1.8920750097800952e-25,\n",
        "       1.3804886395560234e-25, 1.3372006889836015e-25,\n",
        "       3.1039881348201505e-25, 5.905622954635689e-25,\n",
        "       6.674494913664452e-25, 2.4373720620973963e-25,\n",
        "       2.7224124058592455e-25, 1.775488889603185e-25,\n",
        "       2.3419838093137843e-25, 1.5535603358568415e-25,\n",
        "       1.8231765625540016e-25, 9.915743469432603e-26,\n",
        "       2.6991755284353432e-25, 3.486586526759742e-25,\n",
        "       3.183657572531115e-25, 5.116712391995996e-25, 3.50217276741092e-25,\n",
        "       2.671171721027026e-25, 4.212460029498995e-25, 6.054391823271629e-25,\n",
        "       1.8961811488787494e-25, 5.955682692762015e-25,\n",
        "       1.3071423386412905e-25, 1.961932661957675e-25,\n",
        "       6.1973074821924615e-25, 8.50162387118455e-25, 4.128252500146886e-25,\n",
        "       5.660906266456305e-25, 1.275317727507752e-24, 4.897438690401499e-25,\n",
        "       4.763399449282644e-25, 7.072721970951157e-25,\n",
        "       4.6754496442563715e-25, 6.224585232916715e-25, 1.46961670623532e-24,\n",
        "       1.9538791727385016e-24, 7.356345938775678e-25,\n",
        "       1.762480338397745e-24, 1.1691429446873348e-24,\n",
        "       1.7964039434125236e-24, 1.66999946072473e-24, 6.160717776560383e-25,\n",
        "       5.322088806965319e-25, 7.875199487954323e-25, 7.066816863088951e-25,\n",
        "       8.728386840240998e-25, 1.6255807187214056e-24,\n",
        "       5.613265156503669e-25, 6.879229434608908e-25, 7.853202868542086e-25,\n",
        "       1.5670010896407127e-24, 1.9809648481220263e-24,\n",
        "       2.1039785727066656e-24, 6.578854595862252e-25,\n",
        "       6.786256970473793e-25, 3.047591180640982e-24, 9.176889917372328e-25,\n",
        "       2.6600803525877078e-24, 5.128442549081236e-24,\n",
        "       3.607393439983927e-24, 4.582305537052485e-24, 3.367891160107482e-24,\n",
        "       2.8885528229594936e-24, 1.3765885876622462e-24,\n",
        "       7.758612964316552e-24, 2.9106802045969237e-24,\n",
        "       1.3635131147543459e-24, 9.290673907206923e-25,\n",
        "       8.852916379544492e-25, 1.86202898590435e-24, 8.34865732391448e-25,\n",
        "       9.714255129981181e-25, 7.894383649183016e-25,\n",
        "       3.9396968634094975e-24, 3.7085167147640757e-25,\n",
        "       1.0952817466132666e-24, 1.6930423016125363e-24,\n",
        "       7.139184816169635e-25, 3.6811648584180636e-25, 3.2839453188161e-25,\n",
        "       7.060568509207349e-25, 1.0359330890031597e-24,\n",
        "       6.133400983296164e-25, 5.654124672953698e-25, 7.297910202673257e-25,\n",
        "       3.722895952182917e-25, 3.8831468009272237e-25,\n",
        "       4.0237348627907705e-25, 3.073555195169507e-25,\n",
        "       3.4986875240571767e-25, 3.731129433547541e-25,\n",
        "       5.581074688728066e-25, 9.3176734516051e-25, 7.157276756856836e-25,\n",
        "       2.2525350170471252e-24, 1.2730816707422287e-24,\n",
        "       1.6236885276838981e-24, 8.199000101411573e-25,\n",
        "       2.4628517501917656e-24, 9.539711108601599e-25,\n",
        "       1.708833601225381e-24, 4.949443104899257e-24,\n",
        "       3.2026332626065832e-24, 3.5451009429310956e-24,\n",
        "       3.3671552048136944e-24, 4.483551239996933e-24,\n",
        "       3.486013435266146e-24, 1.4500375805908773e-23, 5.93724772511759e-24,\n",
        "       7.423712295378062e-24, 2.0861943718867337e-24,\n",
        "       1.6598276513316216e-24, 2.0370273755643115e-24,\n",
        "       1.9316395303062574e-24, 5.000996681928298e-24,\n",
        "       1.2891328210682301e-24, 2.075677655418481e-24, 9.90128379223916e-25,\n",
        "       7.322665354496312e-25, 1.0993554547957509e-24,\n",
        "       4.869522840282331e-25, 1.1260631956901936e-24,\n",
        "       7.9972026857617335e-25, 3.9111183030839635e-25,\n",
        "       7.992066324880502e-25, 6.776376144898113e-25, 8.535035827825623e-25,\n",
        "       5.163312316727425e-25, 8.669462992524416e-25,\n",
        "       3.3429350743333617e-25, 3.5526761929539283e-25,\n",
        "       4.991752158669608e-25, 1.672113005946791e-24, 3.733849621503631e-25,\n",
        "       2.8348210102195996e-25, 2.2125091308282e-25, 4.680027686971864e-24,\n",
        "       8.490571882110783e-25, 1.2709848562592631e-24,\n",
        "       5.388649983762464e-25, 2.108305135680973e-25,\n",
        "       3.0548362114294348e-25, 2.5618249592714463e-25,\n",
        "       2.0882957706315606e-25, 1.7012559150989456e-25,\n",
        "       7.590729510367538e-25, 4.568740965013924e-25,\n",
        "       1.8109436481483697e-25, 1.9225466716332715e-25,\n",
        "       2.4210222839354523e-25, 1.8390757980928887e-25,\n",
        "       2.7606236262162216e-25, 3.0910369997842964e-25,\n",
        "       1.6965073267110369e-25, 5.674067796039007e-25,\n",
        "       2.7442867424088388e-25, 1.6750965296768873e-25,\n",
        "       1.1342314536464824e-25, 1.7826991074610691e-25,\n",
        "       1.8685704250423235e-25, 1.5455525631273874e-25,\n",
        "       4.278969984140928e-25, 2.7358447494721244e-25,\n",
        "       1.450014004287776e-25, 1.4728359138299142e-25,\n",
        "       2.0672311568354405e-25, 1.6337438911692052e-25,\n",
        "       1.7341759204281729e-25, 1.9448118411845975e-25,\n",
        "       2.2874259953971846e-25, 1.26428605997017e-25,\n",
        "       1.4169296092859212e-25, 1.36842291260074e-25, 1.017954260795219e-25,\n",
        "       1.225704837376577e-25, 9.614798388821331e-26, 1.270438722748808e-25,\n",
        "       8.084908512907953e-26, 7.606450685795688e-26, 8.240810179403362e-26,\n",
        "       7.905569618086101e-26, 7.830177801482293e-26, 7.867354110334548e-26,\n",
        "       7.544771888121877e-26, 5.288723783912155e-26, 6.787263127698264e-26,\n",
        "       4.9145749457967293e-26, 8.375174389576742e-26, 3.95930642305004e-26,\n",
        "       4.5219757442769474e-26, 3.387900012899547e-26,\n",
        "       2.967633000091905e-26, 3.552832304352289e-26, 4.09139719096131e-26,\n",
        "       2.850594790420728e-26, 2.918423631054173e-26, 7.702569988625168e-26,\n",
        "       3.769162398951836e-26, 3.1422543401222264e-26,\n",
        "       3.272616787848735e-26, 3.118359506873788e-26,\n",
        "       2.9652524307225814e-26, 3.639450422884639e-26,\n",
        "       2.6263651751551344e-26, 3.1687033429120806e-26,\n",
        "       2.809417728037748e-26, 3.3312001762241543e-26,\n",
        "       2.877727906741235e-26, 3.335053585847569e-26,\n",
        "       3.4615672260733807e-26, 2.7391018418277754e-26,\n",
        "       3.293860360794492e-26, 3.200261231504906e-26, 3.985261342772083e-26,\n",
        "       4.5270763143864675e-26, 3.4426826487224025e-26,\n",
        "       4.074544940631682e-26, 3.607476731896878e-26,\n",
        "       4.2875712408118627e-26, 3.100785225911222e-26,\n",
        "       3.872779255611591e-26, 3.1402818742377454e-26,\n",
        "       3.191736031458266e-26, 3.149714025255434e-26,\n",
        "       3.3778764637584623e-26, 4.3068241637740487e-26,\n",
        "       3.1163007622194336e-26, 3.748855500525575e-26,\n",
        "       2.965656130309688e-26, 3.315179190148058e-26, 2.666145595756188e-26,\n",
        "       3.0033240227310886e-26, 3.3405517107236857e-26,\n",
        "       3.289584491268876e-26, 2.771040650518228e-26, 3.998415262665594e-26,\n",
        "       2.794287650654506e-26, 3.038994127557214e-26,\n",
        "       3.8485758501166537e-26, 3.443307905288705e-26,\n",
        "       2.9360113104428655e-26, 4.000708955379663e-26,\n",
        "       3.6932116558758813e-26, 3.010041253907512e-26,\n",
        "       3.613657501543036e-26, 3.8897251694913854e-26,\n",
        "       3.773956941539368e-26, 3.78939825698271e-26, 3.246046453079768e-26,\n",
        "       2.982387607156823e-26, 3.5137121126864717e-26,\n",
        "       4.158136343409079e-26, 2.865464474237531e-26, 3.134808670797578e-26,\n",
        "       3.169165574467703e-26, 2.967654605225487e-26, 3.817075129437711e-26,\n",
        "       2.762359252314532e-26, 3.4193376149108216e-26,\n",
        "       3.313742572555724e-26, 2.6404821319943194e-26,\n",
        "       3.2891998820048275e-26, 3.245940403790144e-26,\n",
        "       3.224382904705496e-26, 3.84900349052408e-26, 2.561358181086542e-26,\n",
        "       2.9791216640888373e-26, 3.7650502432487606e-26,\n",
        "       3.1309527330243376e-26, 2.92119748795332e-26,\n",
        "       3.2957733735273864e-26, 3.40762844863775e-26, 2.702882868681222e-26,\n",
        "       3.207126281149476e-26, 2.8622609448258714e-26, 3.3767311390785e-26,\n",
        "       3.4564030168813115e-26, 2.5506722255848655e-26,\n",
        "       3.1341040028061006e-26, 3.3613996774399984e-26,\n",
        "       3.014084615963492e-26, 2.5246388941703144e-26,\n",
        "       3.291515043364902e-26, 2.73240946183118e-26, 2.69205083715548e-26,\n",
        "       3.215077800459821e-26, 2.7875583650610104e-26,\n",
        "       2.8748824847510553e-26, 3.2298987851348235e-26,\n",
        "       3.4899478026363954e-26, 2.8162933457827196e-26,\n",
        "       2.767098747308524e-26, 3.052851114512798e-26,\n",
        "       2.3791378346415973e-26, 2.928152323040807e-26,\n",
        "       2.8568713848770993e-26, 3.6242162805081263e-26,\n",
        "       3.010027880962945e-26, 2.7774569968200993e-26,\n",
        "       3.086221374837703e-26, 3.434708972027088e-26,\n",
        "       3.5840011812985485e-26, 3.295436754363957e-26,\n",
        "       2.6449340902490545e-26, 2.2573529524491136e-26,\n",
        "       2.967280342240416e-26, 3.3988466250257324e-26,\n",
        "       2.616232439042633e-26, 2.428396942631036e-26,\n",
        "       2.6912350748331357e-26, 3.5499162279740324e-26,\n",
        "       2.592219575448069e-26, 3.17948068109644e-26, 2.5480630794621682e-26,\n",
        "       2.816491851143113e-26, 3.5052922758172766e-26,\n",
        "       2.2194871205015212e-26, 3.327353749414631e-26,\n",
        "       2.6978790899870646e-26, 2.471788567885495e-26,\n",
        "       2.4076864366830257e-26, 2.72530762635227e-26, 2.322238996514855e-26,\n",
        "       2.912482090624482e-26, 2.595201371781293e-26, 2.708677278026798e-26,\n",
        "       2.935559568790843e-26, 3.201404928487817e-26,\n",
        "       2.5187726732261282e-26, 2.6347242082545346e-26,\n",
        "       2.830440896271663e-26, 3.2118033920945884e-26,\n",
        "       2.7873066584149705e-26, 3.3180109096944396e-26,\n",
        "       2.9822416383442863e-26, 3.4051932544558267e-26,\n",
        "       3.160555361101875e-26, 3.082559827936366e-26, 3.371028349514773e-26,\n",
        "       3.669380714565811e-26, 3.3693212139637416e-26,\n",
        "       2.2725674158683362e-26, 2.327628340172094e-26,\n",
        "       2.8857087756040624e-26, 2.76417706575338e-26, 2.978213038162146e-26,\n",
        "       2.682716270843835e-26, 2.6679044998046825e-26,\n",
        "       2.802260239815286e-26, 2.624035752717624e-26, 2.030479655663269e-26,\n",
        "       3.064862963512611e-26, 3.0430218642152923e-26, 2.65309980166791e-26,\n",
        "       2.8873929828330493e-26, 3.4072738485219304e-26,\n",
        "       2.9240722499002686e-26, 2.7060992903647047e-26,\n",
        "       2.7942579672386525e-26, 2.2162786595328446e-26,\n",
        "       2.7775216920660846e-26, 2.1282631540166083e-26,\n",
        "       2.641462109376825e-26, 2.50513945000733e-26, 2.7593026310211734e-26,\n",
        "       2.066749914001764e-26, 2.2618049728084775e-26,\n",
        "       2.647439848778724e-26, 2.4793276764434742e-26,\n",
        "       3.0498331144480345e-26, 2.067333450276074e-26,\n",
        "       2.391000910260279e-26, 2.2988320925738964e-26,\n",
        "       2.6855174082671484e-26, 2.9208128807019007e-26,\n",
        "       2.2607942795538406e-26, 2.4651413941510106e-26,\n",
        "       2.538450761181761e-26, 2.4993296287316368e-26,\n",
        "       2.2398109622004897e-26, 2.7753788013982886e-26,\n",
        "       1.9642023550024985e-26, 2.362021360409224e-26,\n",
        "       3.0297733062583225e-26, 1.9928060340842687e-26,\n",
        "       2.7664095775175393e-26, 2.0819708552044086e-26,\n",
        "       2.253670326001135e-26, 2.5577889878510405e-26,\n",
        "       1.9780194716278664e-26, 2.4176088698854572e-26,\n",
        "       2.249527603988432e-26, 2.086147293241099e-26,\n",
        "       1.9210481067595528e-26, 2.159650266220461e-26,\n",
        "       2.0410390277242997e-26, 2.3909048807906196e-26,\n",
        "       1.9377453850754736e-26, 2.5142915938993323e-26,\n",
        "       2.421903073475796e-26, 2.459722336937735e-26,\n",
        "       2.4323743619335888e-26, 2.1302563204784904e-26, 2.164993709435e-26,\n",
        "       2.5817733396843773e-26, 2.825736424791708e-26,\n",
        "       2.171320583097953e-26, 2.4973319936028624e-26,\n",
        "       2.518194360369478e-26, 1.9922813796628798e-26,\n",
        "       2.378752342472391e-26, 1.9970549574863336e-26,\n",
        "       2.0342029560255732e-26, 2.1704561669032626e-26,\n",
        "       2.3233652414837893e-26, 2.1246884845707067e-26,\n",
        "       2.588260135600037e-26, 1.962791034351679e-26,\n",
        "       2.3923004596831788e-26, 2.0513859024003338e-26,\n",
        "       2.7460833584791777e-26, 2.3919493302484053e-26,\n",
        "       2.0155888481740166e-26, 2.503264625766976e-26,\n",
        "       2.5201330862563552e-26, 2.3386724994904035e-26,\n",
        "       2.4666999793882822e-26, 1.9781325370502078e-26,\n",
        "       1.991361882368283e-26, 2.3239939813034946e-26,\n",
        "       2.048632584339534e-26, 2.3883113167811146e-26,\n",
        "       2.3680977439835407e-26, 2.0882452488976844e-26,\n",
        "       2.4293637415473517e-26, 2.0182355946692338e-26,\n",
        "       2.792968069940129e-26, 2.1162543815680374e-26,\n",
        "       1.973029532724619e-26, 1.6426875952136696e-26,\n",
        "       1.926903856872535e-26, 2.843231566241675e-26,\n",
        "       2.2856534122294412e-26, 1.9047174882956292e-26,\n",
        "       2.1363876167199549e-26, 2.100931709950985e-26,\n",
        "       2.119441311850852e-26, 2.5417318235473987e-26,\n",
        "       1.8310781468959433e-26, 2.1355850386978878e-26,\n",
        "       1.9025944378011208e-26, 1.9259838868003842e-26,\n",
        "       2.0993756142734904e-26, 3.037302663418651e-26,\n",
        "       2.0654452473523588e-26, 2.8155972454506717e-26,\n",
        "       2.0856120972187202e-26, 1.6508796078456254e-26,\n",
        "       2.126946050978592e-26, 2.8023985185260674e-26,\n",
        "       2.1590221841676315e-26, 2.5559172108561556e-26,\n",
        "       2.128498402539623e-26, 2.1720049033044605e-26,\n",
        "       1.7766597300274564e-26, 2.133460056857723e-26,\n",
        "       2.4537068455630363e-26, 2.4065785628989064e-26,\n",
        "       2.3352106579622638e-26, 2.3405208023668672e-26,\n",
        "       2.3313239015323966e-26, 2.237986746413559e-26,\n",
        "       2.1576273692247263e-26, 2.2595287520535202e-26,\n",
        "       2.332392968938978e-26, 2.0233092011948693e-26,\n",
        "       2.251784428931791e-26, 2.580177173316967e-26,\n",
        "       2.2202253684306802e-26, 2.211032344715461e-26,\n",
        "       2.453066681433222e-26, 2.4561486905966313e-26,\n",
        "       2.2034668785975323e-26, 2.103957226846506e-26,\n",
        "       2.2606783342978154e-26, 2.0573100953716515e-26,\n",
        "       2.2397952593890057e-26, 1.7189770328446612e-26,\n",
        "       2.9574019938317344e-26, 2.409906751152387e-26,\n",
        "       2.742732751172302e-26, 1.9092321969573314e-26,\n",
        "       1.9917914354700203e-26, 2.2484925834423282e-26,\n",
        "       2.1373536464657524e-26, 2.5687704178274504e-26,\n",
        "       2.5109061767508305e-26, 2.0926723050044622e-26,\n",
        "       2.4319506967519718e-26, 2.634247630161075e-26,\n",
        "       2.1847325004447192e-26, 2.4534802685370306e-26,\n",
        "       2.4143140474092583e-26, 3.8645365714501755e-26,\n",
        "       1.6944023085562764e-26, 2.3482906165483775e-26,\n",
        "       1.9686742772809156e-26, 2.0908546290885548e-26,\n",
        "       2.5206544355505022e-26, 2.534663755343619e-26,\n",
        "       1.6590712902883233e-26, 2.435351913312857e-26,\n",
        "       2.911699429511595e-26, 3.2561057234393017e-26,\n",
        "       2.6773225151364295e-26, 2.3968600581553022e-26,\n",
        "       2.022717862073123e-26, 2.652470448373596e-26,\n",
        "       2.4614874386408468e-26, 2.5640594403866687e-26,\n",
        "       1.743406320617315e-26, 1.8506647307690537e-26,\n",
        "       1.5169376188489204e-26, 1.995725562007711e-26,\n",
        "       2.125940833286139e-26, 1.673127402896565e-26, 1.392946853799914e-26,\n",
        "       1.539059723458632e-26, 1.4419471840324236e-26,\n",
        "       1.578093204108411e-26, 1.494701106715144e-26,\n",
        "       1.4668257945924348e-26, 1.4441086085047977e-26,\n",
        "       1.2450414655053634e-26, 1.5874645612871474e-26,\n",
        "       1.2476883240557253e-26, 1.278994822075501e-26,\n",
        "       1.1463591306757976e-26, 1.19714000627367e-26, 9.595103996646157e-27,\n",
        "       1.1310557997467656e-26, 1.0432431375560138e-26,\n",
        "       1.2401304616008069e-26, 8.924999678359217e-27,\n",
        "       9.563399063111095e-27, 1.0270184692532795e-26,\n",
        "       1.1406443115600584e-26, 8.245981681359323e-27,\n",
        "       9.107745671717484e-27, 9.90030505113446e-27, 8.684542118086024e-27,\n",
        "       9.06745418002896e-27, 1.0383320349657752e-26, 9.721213676535332e-27,\n",
        "       9.525008247378023e-27, 9.270070608512351e-27, 9.683626997584116e-27,\n",
        "       8.979961480048908e-27, 9.229000863952672e-27, 9.071171909398136e-27,\n",
        "       7.55470088202292e-27, 9.90784493904415e-27, 8.771415375164857e-27,\n",
        "       1.0661318868887758e-26, 9.786844164207496e-27,\n",
        "       9.611699528081757e-27, 8.979824466188133e-27, 8.22210428100641e-27,\n",
        "       8.190660769527605e-27, 8.473999615815013e-27,\n",
        "       1.0306312243013016e-26, 7.455158239389788e-27,\n",
        "       9.084009705578913e-27, 7.20225287704066e-27, 8.158606804415052e-27,\n",
        "       6.886242801753946e-27, 1.0013394037175852e-26,\n",
        "       8.754732123643372e-27, 9.88234998649489e-27, 7.938186015230422e-27,\n",
        "       9.334728892100172e-27, 9.347610419973836e-27, 7.778178136593558e-27,\n",
        "       9.811308836836942e-27, 7.74069588633135e-27, 1.071307774078928e-26,\n",
        "       8.610698465537746e-27, 9.914705675690882e-27, 8.531413612388984e-27,\n",
        "       9.009671474855595e-27, 7.600089949677708e-27, 7.826319583213696e-27,\n",
        "       8.359671623530162e-27, 8.514928093466421e-27, 8.02923732395229e-27,\n",
        "       7.92391848427592e-27, 6.538464908468296e-27, 8.873734530831506e-27,\n",
        "       8.270671362045306e-27, 8.824551329607374e-27, 6.457132968354655e-27,\n",
        "       7.188496251174596e-27, 9.61214456157887e-27, 8.152074748995956e-27,\n",
        "       7.722859149856965e-27, 7.863307440938857e-27, 8.521534757567375e-27,\n",
        "       9.969712544469449e-27, 7.107065140375706e-27, 8.275180164451542e-27,\n",
        "       6.531884509801638e-27, 8.487255178214962e-27, 7.862269503490536e-27,\n",
        "       6.929916147366486e-27, 7.975055072174658e-27, 9.42867535111789e-27,\n",
        "       6.91110824790538e-27, 6.991309707266035e-27, 7.155725913219352e-27,\n",
        "       7.006051461831536e-27, 6.384284971441203e-27, 7.194946368328427e-27,\n",
        "       7.139176351306521e-27, 5.855201491969945e-27, 6.36262007806762e-27,\n",
        "       7.372190990157568e-27, 7.718109721149818e-27, 6.598232941668086e-27,\n",
        "       6.4026562536015205e-27, 7.022222586949895e-27,\n",
        "       6.512981907540527e-27, 6.742610196022035e-27, 8.453522526801569e-27,\n",
        "       6.032999110158791e-27, 6.460483533644167e-27, 5.969143827875539e-27,\n",
        "       7.228454752325817e-27, 6.83010193164708e-27, 6.087650200386655e-27,\n",
        "       5.3164184340779485e-27, 6.626917718532108e-27,\n",
        "       6.878638624470074e-27, 5.9369130776154064e-27,\n",
        "       6.862020253796434e-27, 5.655582672393003e-27, 5.687516900304063e-27,\n",
        "       6.614481298623e-27, 6.381076737845941e-27, 5.921568683165621e-27,\n",
        "       6.356627536556829e-27, 7.74283878298705e-27, 6.519532814506401e-27,\n",
        "       5.760854056794157e-27, 5.9746899803467496e-27,\n",
        "       6.734155805332763e-27, 6.0754209994432256e-27,\n",
        "       6.1796800019159406e-27, 6.233206515453477e-27,\n",
        "       6.015762483114137e-27, 5.746943276096119e-27, 6.288799079441682e-27,\n",
        "       6.609181375730011e-27, 7.09885664665134e-27, 6.708466409830675e-27,\n",
        "       4.693601728231845e-27, 5.932034627754045e-27,\n",
        "       6.2225738610780685e-27, 6.098162810313131e-27,\n",
        "       6.1546258945241586e-27, 6.594357389852505e-27,\n",
        "       5.762024431548509e-27, 4.5000660172896444e-26,\n",
        "       1.6393092992647996e-26, 1.06274957567063e-26, 8.201696227671376e-27,\n",
        "       6.863479025363645e-27, 7.015396222296765e-27,\n",
        "       5.1807717681846195e-27, 6.023665649493466e-27,\n",
        "       6.511503230969838e-27, 7.255368257256616e-27, 5.622863080345117e-27,\n",
        "       4.833999436618464e-27, 6.0629398197946364e-27,\n",
        "       5.095448986267473e-27, 4.738003672591636e-27, 4.132781001004511e-27,\n",
        "       3.9454964320387226e-27, 4.5646043794397115e-27,\n",
        "       2.405774474733955e-27, 1.7188007772247132e-25,\n",
        "       1.5745762615438334e-26, 8.457962828843213e-27,\n",
        "       7.241866932112056e-27, 7.758318437680828e-27, 6.292322987564064e-27,\n",
        "       6.799488075760228e-27, 6.848692416320913e-27, 6.384885769349929e-27,\n",
        "       6.475974760517918e-27, 5.4011124881538885e-27,\n",
        "       6.089236632691429e-27, 5.141608899108818e-27, 5.471086373895778e-27,\n",
        "       3.671640027155481e-27, 3.50237117122319e-27, 3.0995131955096016e-27,\n",
        "       1.768119300040293e-27, 1.7274486579913733e-26,\n",
        "       4.0125095832069126e-26, 1.7463569233313366e-26,\n",
        "       1.1410601281572078e-26, 8.661740503519812e-27,\n",
        "       8.084216446456869e-27, 8.639056195104227e-27,\n",
        "       6.0557697729375644e-27, 6.635080146918702e-27,\n",
        "       7.260274368046547e-27, 4.693235550122493e-27, 5.391989512205531e-27,\n",
        "       4.8274479575807544e-27, 4.24127257380449e-27, 4.061168960880904e-27,\n",
        "       3.2944196349152576e-27, 3.2344369941106305e-27,\n",
        "       1.6126857946753878e-27, 1.6160299387470975e-27,\n",
        "       4.228128963641656e-23, 3.245261091680249e-26,\n",
        "       1.5355179148938628e-26, 1.0515392760200479e-26,\n",
        "       9.148076127039868e-27, 7.486164490688505e-27, 8.431365805554007e-27,\n",
        "       7.329215558151935e-27, 6.50385946146368e-27, 5.7040040636960306e-27,\n",
        "       4.2417543543827204e-27, 4.515674069039092e-27,\n",
        "       5.5294107669216896e-27, 4.9256236379625046e-27,\n",
        "       2.840948166119996e-27, 2.965802006421686e-27,\n",
        "       1.5063396465448803e-27, 5.04756273457544e-28,\n",
        "       2.4052836314929276e-26, 1.7224152082541929e-25,\n",
        "       3.206107798443844e-26, 1.0834019328668958e-26,\n",
        "       1.4433782897716383e-26, 1.0676708383674637e-26,\n",
        "       8.124846772335224e-27, 7.110610032622026e-27, 4.885141438892242e-27,\n",
        "       6.537626768863572e-27, 5.404492105358716e-27,\n",
        "       4.4502608835110844e-27, 4.660626718612224e-27,\n",
        "       3.891617413979589e-27, 2.9693005662021758e-27,\n",
        "       2.7671043986789582e-27, 1.686748867056691e-27,\n",
        "       5.162428419556045e-28, 4.88787097599055e-27, 4.175426602863496e-25,\n",
        "       8.513765503074758e-26, 2.1986139086654533e-26,\n",
        "       1.543528378874766e-26, 1.1726644253528335e-26,\n",
        "       8.220647995229055e-27, 8.717662573133144e-27, 7.121213862048e-27,\n",
        "       5.435712433643931e-27, 5.7537359085032444e-27,\n",
        "       4.4663433818416474e-27, 3.535528622009116e-27,\n",
        "       3.411536546629876e-27, 4.1157113884968505e-27,\n",
        "       2.557567161583911e-27, 1.3520787203448117e-27,\n",
        "       5.292605278716415e-28, 1.0976551440317202e-27,\n",
        "       1.6478549167734507e-26, 1.1112176592097362e-24,\n",
        "       4.747425323896687e-26, 1.952539466320669e-26,\n",
        "       1.2292865084085778e-26, 1.1645360475578304e-26,\n",
        "       9.177240662631513e-27, 9.296314640000026e-27, 5.751450902439896e-27,\n",
        "       5.268128723748955e-27, 3.576450798546034e-27,\n",
        "       4.3395997524772736e-27, 3.345649988506628e-27,\n",
        "       2.674394920055934e-27, 1.9865255797456764e-27,\n",
        "       1.614914101198982e-27, 8.135574572785467e-28, 6.146175635286044e-28,\n",
        "       3.7363929312910484e-27, 1.4726546783901402e-25,\n",
        "       1.4902220605865929e-25, 3.1048959468812767e-26,\n",
        "       1.8401506062206145e-26, 1.2503414056355864e-26,\n",
        "       1.1707918853716883e-26, 6.592831667303788e-27,\n",
        "       8.258179838296469e-27, 6.669133125599567e-27, 4.764235791554556e-27,\n",
        "       4.7847894463870986e-27, 4.040913092201924e-27, 2.85359004567194e-27,\n",
        "       2.672120008234597e-27, 1.5544126742301907e-27,\n",
        "       8.972300330942812e-28, 2.9161251150612136e-28,\n",
        "       1.2239698382144185e-27, 2.4474902694051613e-26,\n",
        "       7.171800475662424e-22, 9.647935481628871e-26, 2.654057753530775e-26,\n",
        "       1.983612812145935e-26, 1.1772930929954005e-26,\n",
        "       1.2552082451556215e-26, 8.185479191844658e-27,\n",
        "       7.502612496589526e-27, 5.645325187336508e-27, 5.872046787972189e-27,\n",
        "       3.520934947028108e-27], dtype=object)"
       ]
      }
     ],
     "prompt_number": 192
    },
    {
     "cell_type": "code",
     "collapsed": false,
     "input": [
      "al(10000000., data[:len(freq)],freq)"
     ],
     "language": "python",
     "metadata": {},
     "outputs": [
      {
       "metadata": {},
       "output_type": "pyout",
       "prompt_number": 144,
       "text": [
        "2.2138860511901644e-05"
       ]
      }
     ],
     "prompt_number": 144
    },
    {
     "cell_type": "code",
     "collapsed": false,
     "input": [
      "data[1::10]**2"
     ],
     "language": "python",
     "metadata": {},
     "outputs": [
      {
       "metadata": {},
       "output_type": "pyout",
       "prompt_number": 181,
       "text": [
        "array([  2.40150316e+09,   1.19205417e+10,   7.65948245e+09,\n",
        "         1.25905789e+09,   4.98960704e+09,   1.87011725e+10,\n",
        "         1.26026850e+09,   1.18311942e+10,   1.12922965e+09,\n",
        "         6.73066414e+09,   5.65264006e+09,   6.29794432e+09,\n",
        "         4.95270399e+08,   7.69823560e+07,   9.52683684e+08,\n",
        "         7.06091757e+07,   1.54390819e+08,   3.31083255e+08,\n",
        "         2.54951620e+08,   1.22474346e+09,   4.62178926e+08,\n",
        "         1.90001994e+09,   5.29581116e+08,   2.68397111e+08,\n",
        "         3.24036580e+08,   4.19860077e+09,   1.20678683e+10,\n",
        "         2.03074850e+10,   1.01536403e+12,   7.12422622e+12,\n",
        "         1.94362498e+11,   2.16899586e+10,   6.44924855e+11,\n",
        "         2.72452821e+10,   1.30731988e+09,   1.01687732e+10,\n",
        "         3.48398617e+09,   4.26191170e+08,   2.06297695e+08,\n",
        "         2.09647073e+08,   1.82433565e+09,   2.41426705e+08,\n",
        "         5.00514854e+07,   1.18518978e+09,   1.29263174e+09,\n",
        "         1.91119495e+09,   1.16413322e+09,   1.53944634e+09,\n",
        "         3.15032361e+09,   2.63956039e+09,   1.14121137e+09,\n",
        "         1.68078518e+09,   3.41901209e+08,   2.82747986e+08,\n",
        "         9.05382834e+08,   5.26236642e+09,   1.14679230e+09,\n",
        "         1.80985081e+09,   5.08043508e+09,   6.30831726e+10,\n",
        "         1.52863593e+09,   5.01564759e+09,   6.89219225e+09,\n",
        "         1.93409313e+10,   1.14790247e+10,   2.41969529e+10,\n",
        "         1.52658561e+11,   1.08374737e+13,   3.52620660e+13,\n",
        "         3.10226100e+13,   3.62742372e+11,   2.43378514e+11,\n",
        "         7.27912479e+11,   3.59048211e+11,   3.57503193e+09,\n",
        "         3.89863135e+09,   4.92842305e+09,   2.72398429e+09,\n",
        "         3.48917917e+09,   7.60767648e+08,   4.11927090e+09,\n",
        "         5.67393201e+09,   1.01516292e+11,   3.76919463e+09,\n",
        "         4.79975541e+09,   1.15138472e+09,   7.29820194e+08,\n",
        "         4.04094334e+09,   1.90815444e+10,   9.93600275e+10,\n",
        "         9.18348744e+09,   1.30017934e+08,   8.23112817e+07,\n",
        "         3.42693346e+07,   4.66763901e+07,   4.42015887e+07,\n",
        "         2.49575282e+07,   6.38666914e+07,   3.34397347e+07,\n",
        "         2.35311846e+08,   4.72095565e+07,   2.80748856e+08,\n",
        "         6.36301200e+07,   1.17153726e+08,   1.16547133e+08,\n",
        "         2.37222767e+07,   4.35481309e+08,   7.34277674e+07,\n",
        "         1.21237687e+08,   6.29911788e+08,   1.26690745e+09,\n",
        "         1.65633867e+09,   1.45237253e+09,   2.54498727e+09,\n",
        "         2.39489489e+09,   4.62708863e+08,   5.27482704e+08,\n",
        "         1.78138711e+08,   1.58996528e+08,   4.44593734e+08,\n",
        "         1.74482452e+07,   2.26570412e+08,   9.22348246e+08,\n",
        "         1.55297443e+08,   4.84721099e+07,   4.15954358e+07,\n",
        "         9.05070861e+07,   1.41062245e+08,   5.04455979e+07,\n",
        "         5.72791655e+07,   3.04919821e+07,   2.86096909e+07,\n",
        "         1.54155877e+08,   5.58022120e+08,   7.12782118e+08,\n",
        "         9.50525211e+07,   1.18584469e+08,   5.04377728e+07,\n",
        "         8.77582106e+07,   3.86167955e+07,   5.31835645e+07,\n",
        "         1.57315150e+07,   1.16568777e+08,   1.94500570e+08,\n",
        "         1.62170809e+08,   4.18891931e+08,   1.96243425e+08,\n",
        "         1.14162534e+08,   2.83917112e+08,   5.86490566e+08,\n",
        "         5.75280472e+07,   5.67522501e+08,   2.73379375e+07,\n",
        "         6.15868763e+07,   6.14505920e+08,   1.15644174e+09,\n",
        "         2.72679499e+08,   5.12733756e+08,   2.60229649e+09,\n",
        "         3.83758492e+08,   3.63039589e+08,   8.00374337e+08,\n",
        "         3.49757270e+08,   6.19927381e+08,   3.45563722e+09,\n",
        "         6.10823011e+09,   8.65853209e+08,   4.97013911e+09,\n",
        "         2.18703236e+09,   5.16330740e+09,   4.46223712e+09,\n",
        "         6.07271096e+08,   4.53194068e+08,   9.92300272e+08,\n",
        "         7.99038409e+08,   1.21895579e+09,   4.22802028e+09,\n",
        "         5.04139931e+08,   7.57180762e+08,   9.86764725e+08,\n",
        "         3.92878786e+09,   6.27875477e+09,   7.08276134e+09,\n",
        "         6.92501245e+08,   7.36852539e+08,   1.48604992e+10,\n",
        "         1.34744494e+09,   1.13216440e+10,   4.20814768e+10,\n",
        "         2.08212599e+10,   3.35960385e+10,   1.81483054e+10,\n",
        "         1.33499799e+10,   3.03199382e+09,   9.63137202e+10,\n",
        "         1.35552948e+10,   2.97466882e+09,   1.38106595e+09,\n",
        "         1.25398605e+09,   5.54744311e+09,   1.11520127e+09,\n",
        "         1.50986804e+09,   9.97140691e+08,   2.48339382e+10,\n",
        "         2.20049540e+08,   1.91942737e+09,   4.58622758e+09,\n",
        "         8.15487357e+08,   2.16815595e+08,   1.72548750e+08,\n",
        "         7.97626043e+08,   1.71705178e+09,   6.01897722e+08,\n",
        "         5.11506013e+08,   8.52151893e+08,   2.21759268e+08,\n",
        "         2.41261265e+08,   2.59047076e+08,   1.51147865e+08,\n",
        "         1.95853030e+08,   2.22741230e+08,   4.98374315e+08,\n",
        "         1.38910462e+09,   8.19625769e+08,   8.11826240e+09,\n",
        "         2.59317910e+09,   4.21818310e+09,   1.07557764e+09,\n",
        "         9.70502199e+09,   1.45609741e+09,   4.67217964e+09,\n",
        "         3.91951793e+10,   1.64109757e+10,   2.01083851e+10,\n",
        "         1.81403747e+10,   3.21635708e+10,   1.94436635e+10,\n",
        "         3.36417438e+11,   5.64014569e+10,   8.81784068e+10,\n",
        "         6.96353113e+09,   4.40804453e+09,   6.63916885e+09,\n",
        "         5.96997004e+09,   4.00159485e+10,   2.65898149e+09,\n",
        "         6.89350037e+09,   1.56856673e+09,   8.57942846e+08,\n",
        "         1.93373187e+09,   3.79396043e+08,   2.02882931e+09,\n",
        "         1.02328401e+09,   2.44749542e+08,   1.02196999e+09,\n",
        "         7.34708379e+08,   1.16554939e+09,   4.26556705e+08,\n",
        "         1.20255342e+09,   1.78803439e+08,   2.01944130e+08,\n",
        "         3.98681434e+08,   4.47353905e+09,   2.23066128e+08,\n",
        "         1.28579363e+08,   7.83231465e+07,   3.50442546e+10,\n",
        "         1.15343697e+09,   2.58464401e+09,   4.64600778e+08,\n",
        "         7.11192087e+07,   1.49312388e+08,   1.05007154e+08,\n",
        "         6.97756676e+07,   4.63083470e+07,   9.21906792e+08,\n",
        "         3.33974304e+08,   5.24722703e+07,   5.91389713e+07,\n",
        "         9.37815824e+07,   5.41151967e+07,   1.21936685e+08,\n",
        "         1.52872156e+08,   4.60501938e+07,   5.15120726e+08,\n",
        "         1.20497756e+08,   4.48951741e+07,   2.05836958e+07,\n",
        "         5.08482577e+07,   5.58648869e+07,   3.82197236e+07,\n",
        "         2.92953346e+08,   1.19757544e+08,   3.36406498e+07,\n",
        "         3.47079301e+07,   6.83751145e+07,   4.27059056e+07,\n",
        "         4.81178580e+07,   6.05166896e+07,   8.37170830e+07,\n",
        "         2.55747079e+07,   3.21230323e+07,   2.99613003e+07,\n",
        "         1.65796940e+07,   2.40376376e+07,   1.47910957e+07,\n",
        "         2.58242328e+07,   1.04585193e+07,   9.25729473e+06,\n",
        "         1.08657524e+07,   9.99968496e+06,   9.80986950e+06,\n",
        "         9.90324171e+06,   9.10777326e+06,   4.47529588e+06,\n",
        "         7.37071052e+06,   3.86448750e+06,   1.12229674e+07,\n",
        "         2.50817718e+06,   3.27172234e+06,   1.83645864e+06,\n",
        "         1.40909530e+06,   2.01961878e+06,   2.67832496e+06,\n",
        "         1.30014251e+06,   1.36275144e+06,   9.49273351e+06,\n",
        "         2.27305363e+06,   1.57980197e+06,   1.71360330e+06,\n",
        "         1.55586656e+06,   1.40683552e+06,   2.11929590e+06,\n",
        "         1.10364705e+06,   1.60650894e+06,   1.26285248e+06,\n",
        "         1.77550314e+06,   1.32501086e+06,   1.77961319e+06,\n",
        "         1.91719163e+06,   1.20042862e+06,   1.73592257e+06,\n",
        "         1.63866751e+06,   2.54116928e+06,   3.27910719e+06,\n",
        "         1.89633021e+06,   2.65630664e+06,   2.08222214e+06,\n",
        "         2.94132274e+06,   1.53837904e+06,   2.39974707e+06,\n",
        "         1.57781924e+06,   1.62994862e+06,   1.58731175e+06,\n",
        "         1.82560790e+06,   2.96779750e+06,   1.55381287e+06,\n",
        "         2.24862681e+06,   1.40721861e+06,   1.75846609e+06,\n",
        "         1.13733317e+06,   1.44319283e+06,   1.78548572e+06,\n",
        "         1.73141858e+06,   1.22858661e+06,   2.55797194e+06,\n",
        "         1.24928696e+06,   1.47767765e+06,   2.36984577e+06,\n",
        "         1.89701909e+06,   1.37922599e+06,   2.56090754e+06,\n",
        "         2.18236997e+06,   1.44965574e+06,   2.08936329e+06,\n",
        "         2.42079390e+06,   2.27884016e+06,   2.29752626e+06,\n",
        "         1.68589081e+06,   1.42314173e+06,   1.97538765e+06,\n",
        "         2.76641566e+06,   1.31374186e+06,   1.57232406e+06,\n",
        "         1.60697767e+06,   1.40911582e+06,   2.33121001e+06,\n",
        "         1.22090058e+06,   1.87069916e+06,   1.75694237e+06,\n",
        "         1.11554334e+06,   1.73101374e+06,   1.68578066e+06,\n",
        "         1.66346322e+06,   2.37037246e+06,   1.04968892e+06,\n",
        "         1.42002654e+06,   2.26809653e+06,   1.56845840e+06,\n",
        "         1.36534316e+06,   1.73793954e+06,   1.85790906e+06,\n",
        "         1.16889213e+06,   1.64570544e+06,   1.31080603e+06,\n",
        "         1.82437011e+06,   1.91147549e+06,   1.04094861e+06,\n",
        "         1.57161726e+06,   1.80784125e+06,   1.45355297e+06,\n",
        "         1.01980825e+06,   1.73345140e+06,   1.19456983e+06,\n",
        "         1.15954203e+06,   1.65387604e+06,   1.24327706e+06,\n",
        "         1.32239189e+06,   1.66915939e+06,   1.94875771e+06,\n",
        "         1.26904131e+06,   1.22509368e+06,   1.49118399e+06,\n",
        "         9.05647494e+05,   1.37185216e+06,   1.30587426e+06,\n",
        "         2.10159098e+06,   1.44964286e+06,   1.23428278e+06,\n",
        "         1.52396198e+06,   1.88755612e+06,   2.05521031e+06,\n",
        "         1.73758454e+06,   1.11930821e+06,   8.15302776e+05,\n",
        "         1.40876042e+06,   1.84834534e+06,   1.09514755e+06,\n",
        "         9.43537874e+05,   1.15883940e+06,   2.01630484e+06,\n",
        "         1.07513637e+06,   1.61745558e+06,   1.03882007e+06,\n",
        "         1.26922022e+06,   1.96593183e+06,   7.88179692e+05,\n",
        "         1.77140528e+06,   1.16456825e+06,   9.77558196e+05,\n",
        "         9.27512636e+05,   1.18836827e+06,   8.62847033e+05,\n",
        "         1.35720831e+06,   1.07761123e+06,   1.17390922e+06,\n",
        "         1.37880160e+06,   1.63983896e+06,   1.01507452e+06,\n",
        "         1.11068346e+06,   1.28182331e+06,   1.65050896e+06,\n",
        "         1.24305255e+06,   1.76147142e+06,   1.42300243e+06,\n",
        "         1.85525458e+06,   1.59825763e+06,   1.52034801e+06,\n",
        "         1.81821314e+06,   2.15429677e+06,   1.81637207e+06,\n",
        "         8.26330026e+05,   8.66856590e+05,   1.33237042e+06,\n",
        "         1.22250798e+06,   1.41916046e+06,   1.15151465e+06,\n",
        "         1.13883431e+06,   1.25642599e+06,   1.10169018e+06,\n",
        "         6.59655621e+05,   1.50294160e+06,   1.48159713e+06,\n",
        "         1.12623017e+06,   1.33392612e+06,   1.85752241e+06,\n",
        "         1.36803176e+06,   1.17167574e+06,   1.24926041e+06,\n",
        "         7.85902575e+05,   1.23434028e+06,   7.24720648e+05,\n",
        "         1.11637153e+06,   1.00411579e+06,   1.21820016e+06,\n",
        "         6.83432833e+05,   8.18521878e+05,   1.12143004e+06,\n",
        "         9.83530516e+05,   1.48823712e+06,   6.83818815e+05,\n",
        "         9.14701656e+05,   8.45540638e+05,   1.15392060e+06,\n",
        "         1.36498366e+06,   8.17790524e+05,   9.72307535e+05,\n",
        "         1.03099716e+06,   9.99463775e+05,   8.02680503e+05,\n",
        "         1.23243640e+06,   6.17294543e+05,   8.92663185e+05,\n",
        "         1.46872421e+06,   6.35404142e+05,   1.22448351e+06,\n",
        "         6.93536423e+05,   8.12644790e+05,   1.04676552e+06,\n",
        "         6.26009765e+05,   9.35173224e+05,   8.09659911e+05,\n",
        "         6.96321685e+05,   5.90468133e+05,   7.46254284e+05,\n",
        "         6.66534450e+05,   9.14628184e+05,   6.00777148e+05,\n",
        "         1.01146596e+06,   9.38498320e+05,   9.68037436e+05,\n",
        "         9.46631206e+05,   7.26078719e+05,   7.49951642e+05,\n",
        "         1.06648857e+06,   1.27756581e+06,   7.54341292e+05,\n",
        "         9.97866734e+05,   1.01460845e+06,   6.35069615e+05,\n",
        "         9.05354033e+05,   6.38116561e+05,   6.62077067e+05,\n",
        "         7.53740796e+05,   8.63684167e+05,   7.22288185e+05,\n",
        "         1.07185448e+06,   6.16407783e+05,   9.15696238e+05,\n",
        "         6.73309459e+05,   1.20655581e+06,   9.15427456e+05,\n",
        "         6.50015745e+05,   1.00261341e+06,   1.01617132e+06,\n",
        "         8.75102250e+05,   9.73537406e+05,   6.26081333e+05,\n",
        "         6.34483543e+05,   8.64151684e+05,   6.71503274e+05,\n",
        "         9.12644951e+05,   8.97261908e+05,   6.97722915e+05,\n",
        "         9.44289310e+05,   6.51723986e+05,   1.24810730e+06,\n",
        "         7.16565217e+05,   6.22855286e+05,   4.31747606e+05,\n",
        "         5.94073356e+05,   1.29343452e+06,   8.35873843e+05,\n",
        "         5.80471794e+05,   7.30264328e+05,   7.06226248e+05,\n",
        "         7.18725036e+05,   1.03366411e+06,   5.36455549e+05,\n",
        "         7.29715753e+05,   5.79178495e+05,   5.93506229e+05,\n",
        "         7.05180475e+05,   1.47603320e+06,   6.82570251e+05,\n",
        "         1.26841406e+06,   6.95964451e+05,   4.36064557e+05,\n",
        "         7.23823921e+05,   1.25654999e+06,   7.45820287e+05,\n",
        "         1.04523405e+06,   7.24880872e+05,   7.54816848e+05,\n",
        "         5.05043167e+05,   7.28264290e+05,   9.63308365e+05,\n",
        "         9.26659261e+05,   8.72513411e+05,   8.76486020e+05,\n",
        "         8.69611381e+05,   8.01373548e+05,   7.44856938e+05,\n",
        "         8.16875229e+05,   8.70409114e+05,   6.55004820e+05,\n",
        "         8.11285298e+05,   1.06517028e+06,   7.88704110e+05,\n",
        "         7.82186245e+05,   9.62805783e+05,   9.65226622e+05,\n",
        "         7.76842606e+05,   7.08261762e+05,   8.17706645e+05,\n",
        "         6.77203973e+05,   8.02669249e+05,   4.72781126e+05,\n",
        "         1.39939625e+06,   9.29224088e+05,   1.20361327e+06,\n",
        "         5.83226813e+05,   6.34757300e+05,   8.08915024e+05,\n",
        "         7.30924898e+05,   1.05577303e+06,   1.00874397e+06,\n",
        "         7.00684380e+05,   9.46301471e+05,   1.11028169e+06,\n",
        "         7.63688976e+05,   9.63130468e+05,   9.32625971e+05,\n",
        "         2.38954287e+06,   4.59359869e+05,   8.82315011e+05,\n",
        "         6.20108546e+05,   6.99467693e+05,   1.01659181e+06,\n",
        "         1.02792326e+06,   4.40402807e+05,   9.48950231e+05,\n",
        "         1.35647897e+06,   1.69635592e+06,   1.14688894e+06,\n",
        "         9.19190102e+05,   6.54622008e+05,   1.12569592e+06,\n",
        "         9.69427266e+05,   1.05190413e+06,   4.86314496e+05,\n",
        "         5.47993591e+05,   3.68175958e+05,   6.37267283e+05,\n",
        "         7.23139908e+05,   4.47896849e+05,   3.10448150e+05,\n",
        "         3.78992773e+05,   3.32673869e+05,   3.98460506e+05,\n",
        "         3.57461024e+05,   3.44252466e+05,   3.33671948e+05,\n",
        "         2.48020520e+05,   4.03206997e+05,   2.49076185e+05,\n",
        "         2.61732441e+05,   2.10262281e+05,   2.29303071e+05,\n",
        "         1.47305633e+05,   2.04685956e+05,   1.74136999e+05,\n",
        "         2.46067770e+05,   1.27448991e+05,   1.46333763e+05,\n",
        "         1.68762710e+05,   2.08171111e+05,   1.08793942e+05,\n",
        "         1.32721650e+05,   1.56825664e+05,   1.20674035e+05,\n",
        "         1.31549960e+05,   1.72501346e+05,   1.51203193e+05,\n",
        "         1.45161251e+05,   1.37494735e+05,   1.50036211e+05,\n",
        "         1.29023533e+05,   1.36279131e+05,   1.31657856e+05,\n",
        "         9.13176087e+04,   1.57064626e+05,   1.23100364e+05,\n",
        "         1.81861952e+05,   1.53251710e+05,   1.47815629e+05,\n",
        "         1.29019596e+05,   1.08164798e+05,   1.07339078e+05,\n",
        "         1.14893871e+05,   1.69952115e+05,   8.89270150e+04,\n",
        "         1.32030772e+05,   8.29959144e+04,   1.06500584e+05,\n",
        "         7.58725439e+04,   1.60428896e+05,   1.22632535e+05,\n",
        "         1.56257346e+05,   1.00823676e+05,   1.39419462e+05,\n",
        "         1.39804513e+05,   9.68000882e+04,   1.54018850e+05,\n",
        "         9.58693965e+04,   1.83632055e+05,   1.18630605e+05,\n",
        "         1.57282222e+05,   1.16456029e+05,   1.29878688e+05,\n",
        "         9.24181876e+04,   9.80020451e+04,   1.11814575e+05,\n",
        "         1.16006401e+05,   1.03149843e+05,   1.00461575e+05,\n",
        "         6.84024374e+04,   1.25989063e+05,   1.09446408e+05,\n",
        "         1.24596330e+05,   6.67113059e+04,   8.26791654e+04,\n",
        "         1.47829317e+05,   1.06330116e+05,   9.54280855e+04,\n",
        "         9.89305663e+04,   1.16186487e+05,   1.59032269e+05,\n",
        "         8.08165999e+04,   1.09565771e+05,   6.82648244e+04,\n",
        "         1.15253601e+05,   9.89044508e+04,   7.68379805e+04,\n",
        "         1.01762405e+05,   1.42239870e+05,   7.64214675e+04,\n",
        "         7.82054583e+04,   8.19270614e+04,   7.85356113e+04,\n",
        "         6.52145514e+04,   8.28276052e+04,   8.15485424e+04,\n",
        "         5.48534152e+04,   6.47726948e+04,   8.69587200e+04,\n",
        "         9.53107483e+04,   6.96586847e+04,   6.55904114e+04,\n",
        "         7.88985761e+04,   6.78702933e+04,   7.27404676e+04,\n",
        "         1.14339269e+05,   5.82353252e+04,   6.67805560e+04,\n",
        "         5.70090849e+04,   8.36008930e+04,   7.46404678e+04,\n",
        "         5.92951759e+04,   4.52228879e+04,   7.02656615e+04,\n",
        "         7.57050709e+04,   5.63950990e+04,   7.53397151e+04,\n",
        "         5.11769846e+04,   5.17565576e+04,   7.00021806e+04,\n",
        "         6.51490245e+04,   5.61039611e+04,   6.46507418e+04,\n",
        "         9.59224839e+04,   6.80068930e+04,   5.30999031e+04,\n",
        "         5.71150726e+04,   7.25581671e+04,   5.90571845e+04,\n",
        "         6.11015119e+04,   6.21645815e+04,   5.79030372e+04,\n",
        "         5.28437712e+04,   6.32783902e+04,   6.98900455e+04,\n",
        "         8.06300251e+04,   7.20056345e+04,   3.52478355e+04,\n",
        "         5.63024557e+04,   6.19526807e+04,   5.95001435e+04,\n",
        "         6.06070718e+04,   6.95768790e+04,   5.31214809e+04,\n",
        "         3.24009507e+06,   4.29973597e+05,   1.80709866e+05,\n",
        "         1.07628514e+05,   7.53717509e+04,   7.87452546e+04,\n",
        "         4.29446338e+04,   5.80552766e+04,   6.78394789e+04,\n",
        "         8.42245897e+04,   5.05865428e+04,   3.73880809e+04,\n",
        "         5.88147828e+04,   4.15417606e+04,   3.59178861e+04,\n",
        "         2.73278061e+04,   2.49071074e+04,   3.33369810e+04,\n",
        "         9.26040132e+03,   4.72684178e+07,   3.96686465e+05,\n",
        "         1.14459416e+05,   8.39114187e+04,   9.63064080e+04,\n",
        "         6.33493257e+04,   7.39728609e+04,   7.50473405e+04,\n",
        "         6.52268261e+04,   6.71011986e+04,   4.66752258e+04,\n",
        "         5.93260844e+04,   4.22978273e+04,   4.78924578e+04,\n",
        "         2.15695048e+04,   1.96265661e+04,   1.53711713e+04,\n",
        "         5.00199337e+03,   4.77452619e+05,   2.57603730e+06,\n",
        "         4.87962001e+05,   2.08322915e+05,   1.20041198e+05,\n",
        "         1.04567289e+05,   1.19413267e+05,   5.86757561e+04,\n",
        "         7.04388617e+04,   8.43385342e+04,   3.52423359e+04,\n",
        "         4.65176814e+04,   3.72868061e+04,   2.87814289e+04,\n",
        "         2.63889493e+04,   1.73651212e+04,   1.67385323e+04,\n",
        "         4.16120876e+03,   4.17848442e+03,   2.86033193e+12,\n",
        "         1.68507513e+06,   3.77250443e+05,   1.76917576e+05,\n",
        "         1.33899675e+05,   8.96682541e+04,   1.13740687e+05,\n",
        "         8.59478411e+04,   6.76803006e+04,   5.20570598e+04,\n",
        "         2.87879680e+04,   3.26260997e+04,   4.89190135e+04,\n",
        "         3.88188292e+04,   1.29135784e+04,   1.40735705e+04,\n",
        "         3.63049461e+03,   4.07646233e+02,   9.25662296e+05,\n",
        "         4.74674264e+07,   1.64466035e+06,   1.87801560e+05,\n",
        "         3.33334542e+05,   1.82387363e+05,   1.05621016e+05,\n",
        "         8.08972401e+04,   3.81833710e+04,   6.83849020e+04,\n",
        "         4.67336559e+04,   3.16877151e+04,   3.47543063e+04,\n",
        "         2.42314978e+04,   1.41067934e+04,   1.22509868e+04,\n",
        "         4.55219478e+03,   4.26410675e+02,   3.82260523e+04,\n",
        "         2.78946997e+08,   1.15974725e+07,   7.73424499e+05,\n",
        "         3.81196777e+05,   2.20022697e+05,   1.08126486e+05,\n",
        "         1.21596225e+05,   8.11386990e+04,   4.72751515e+04,\n",
        "         5.29687630e+04,   3.19171571e+04,   1.99999402e+04,\n",
        "         1.86217306e+04,   2.71025284e+04,   1.04658397e+04,\n",
        "         2.92498699e+03,   4.48186730e+02,   1.92775490e+03,\n",
        "         4.34468132e+05,   1.97568750e+09,   3.60608755e+06,\n",
        "         6.09985659e+05,   2.41783251e+05,   2.16983073e+05,\n",
        "         1.34754794e+05,   1.38274345e+05,   5.29267000e+04,\n",
        "         4.44050884e+04,   2.04656005e+04,   3.01314016e+04,\n",
        "         1.79093982e+04,   1.14438211e+04,   6.31405421e+03,\n",
        "         4.17271609e+03,   1.05900118e+03,   6.04407599e+02,\n",
        "         2.23370114e+04,   3.46993888e+07,   3.55321886e+07,\n",
        "         1.54246061e+06,   5.41784681e+05,   2.50136581e+05,\n",
        "         2.19320582e+05,   6.95446870e+04,   1.09116055e+05,\n",
        "         7.11637386e+04,   3.63167083e+04,   3.66307361e+04,\n",
        "         2.61263658e+04,   1.30287618e+04,   1.14243605e+04,\n",
        "         3.86591802e+03,   1.28803477e+03,   1.36060571e+02,\n",
        "         2.39696346e+03,   9.58433379e+05,   8.22955553e+14,\n",
        "         1.48932254e+07,   1.12704361e+06,   6.29555166e+05,\n",
        "         2.21763044e+05,   2.52087638e+05,   1.07203311e+05,\n",
        "         9.00627108e+04,   5.09915144e+04,   5.51694936e+04,\n",
        "         1.98351726e+04])"
       ]
      }
     ],
     "prompt_number": 181
    },
    {
     "cell_type": "code",
     "collapsed": false,
     "input": [
      "plt.loglog(freq,data[:len(freq)]t/(2*10**14)**2)"
     ],
     "language": "python",
     "metadata": {},
     "outputs": [
      {
       "metadata": {},
       "output_type": "pyout",
       "prompt_number": 199,
       "text": [
        "[<matplotlib.lines.Line2D at 0x1055c88d0>]"
       ]
      },
      {
       "metadata": {},
       "output_type": "display_data",
       "png": "[encoded data removed]",
       "text": [
        "<matplotlib.figure.Figure at 0x107d73750>"
       ]
      }
     ],
     "prompt_number": 199
    },
    {
     "cell_type": "code",
     "collapsed": false,
     "input": [
      "#Time to generate my own white noise PSD, so I can test out the allan deviation code.\n",
      "import random\n",
      "from scipy import signal"
     ],
     "language": "python",
     "metadata": {},
     "outputs": [],
     "prompt_number": 252
    },
    {
     "cell_type": "code",
     "collapsed": false,
     "input": [
      "random.random()"
     ],
     "language": "python",
     "metadata": {},
     "outputs": [
      {
       "metadata": {},
       "output_type": "pyout",
       "prompt_number": 206,
       "text": [
        "0.2868206042870193"
       ]
      }
     ],
     "prompt_number": 206
    },
    {
     "cell_type": "code",
     "collapsed": false,
     "input": [
      "random.gauss(0,1)"
     ],
     "language": "python",
     "metadata": {},
     "outputs": [
      {
       "metadata": {},
       "output_type": "pyout",
       "prompt_number": 208,
       "text": [
        "-0.9265537989887833"
       ]
      }
     ],
     "prompt_number": 208
    },
    {
     "cell_type": "code",
     "collapsed": false,
     "input": [
      "random.gauss(0,100)"
     ],
     "language": "python",
     "metadata": {},
     "outputs": [
      {
       "metadata": {},
       "output_type": "pyout",
       "prompt_number": 209,
       "text": [
        "-71.56632539639392"
       ]
      }
     ],
     "prompt_number": 209
    },
    {
     "cell_type": "code",
     "collapsed": false,
     "input": [
      "white_noise = [random.gauss(0,1)*10**-10*np.exp(1j*2*np.pi*random.random()) for i in range(4097)]\n",
      "t = np.linspace(0,4,num=4097.)\n",
      "dt = 4/4097.\n",
      "dt\n",
      "f =np.linspace(-1/(2*dt),1/(2*dt), num = 4097)\n",
      "len(t)\n",
      "f[2]-f[1]"
     ],
     "language": "python",
     "metadata": {},
     "outputs": [
      {
       "metadata": {},
       "output_type": "pyout",
       "prompt_number": 536,
       "text": [
        "0.25006103515625"
       ]
      }
     ],
     "prompt_number": 536
    },
    {
     "cell_type": "code",
     "collapsed": false,
     "input": [
      "f"
     ],
     "language": "python",
     "metadata": {},
     "outputs": [
      {
       "metadata": {},
       "output_type": "pyout",
       "prompt_number": 422,
       "text": [
        "array([-512.125     , -511.87493896, -511.62487793, ...,  511.62487793,\n",
        "        511.87493896,  512.125     ])"
       ]
      }
     ],
     "prompt_number": 422
    },
    {
     "cell_type": "code",
     "collapsed": false,
     "input": [
      "dt"
     ],
     "language": "python",
     "metadata": {},
     "outputs": [
      {
       "metadata": {},
       "output_type": "pyout",
       "prompt_number": 542,
       "text": [
        "0.000976324139614352"
       ]
      }
     ],
     "prompt_number": 542
    },
    {
     "cell_type": "code",
     "collapsed": false,
     "input": [
      "white_freq = np.fft.fftshift(np.fft.fft(white_noise))*dt\n",
      "white_psd1 = signal.periodogram(white_noise,1./dt)"
     ],
     "language": "python",
     "metadata": {},
     "outputs": [],
     "prompt_number": 543
    },
    {
     "cell_type": "code",
     "collapsed": false,
     "input": [
      "white_psd = [w*w.conj()/(dt*4097.) for w in white_freq]"
     ],
     "language": "python",
     "metadata": {},
     "outputs": [],
     "prompt_number": 544
    },
    {
     "cell_type": "code",
     "collapsed": false,
     "input": [
      "posindx = [j for j,i in enumerate(white_psd1[0]) if i>0];\n",
      "posindx2 = [j for j,i in enumerate(f) if i>0];\n",
      "np.array(white_psd)[posindx2]\n",
      "f"
     ],
     "language": "python",
     "metadata": {},
     "outputs": [
      {
       "metadata": {},
       "output_type": "pyout",
       "prompt_number": 545,
       "text": [
        "array([-512.125     , -511.87493896, -511.62487793, ...,  511.62487793,\n",
        "        511.87493896,  512.125     ])"
       ]
      }
     ],
     "prompt_number": 545
    },
    {
     "cell_type": "code",
     "collapsed": false,
     "input": [
      " plt.loglog(white_psd1[0][posindx],2*white_psd1[1][posindx])\n"
     ],
     "language": "python",
     "metadata": {},
     "outputs": [
      {
       "metadata": {},
       "output_type": "pyout",
       "prompt_number": 546,
       "text": [
        "[<matplotlib.lines.Line2D at 0x13eecb3d0>]"
       ]
      },
      {
       "metadata": {},
       "output_type": "display_data",
       "png": "[encoded data removed]",
       "text": [
        "<matplotlib.figure.Figure at 0x13ecc9c50>"
       ]
      }
     ],
     "prompt_number": 546
    },
    {
     "cell_type": "code",
     "collapsed": false,
     "input": [
      "plt.loglog(f[posindx2],np.array(white_psd)[posindx2])\n",
      "len(white_psd)"
     ],
     "language": "python",
     "metadata": {},
     "outputs": [
      {
       "metadata": {},
       "output_type": "pyout",
       "prompt_number": 547,
       "text": [
        "4097"
       ]
      },
      {
       "metadata": {},
       "output_type": "display_data",
       "png": "[encoded data removed]",
       "text": [
        "<matplotlib.figure.Figure at 0x13f7b4850>"
       ]
      }
     ],
     "prompt_number": 547
    },
    {
     "cell_type": "code",
     "collapsed": false,
     "input": [
      "f"
     ],
     "language": "python",
     "metadata": {},
     "outputs": [
      {
       "metadata": {},
       "output_type": "pyout",
       "prompt_number": 387,
       "text": [
        "array([-0.5       , -0.49975586, -0.49951172, ...,  0.49951172,\n",
        "        0.49975586,  0.5       ])"
       ]
      }
     ],
     "prompt_number": 387
    },
    {
     "cell_type": "code",
     "collapsed": false,
     "input": [
      "\n",
      "white_psdre = np.array([float(w.real) for w in white_psd]);\n",
      "kern = lambda t:[ s*np.sin(np.pi*fr*t)**4/(np.pi*carrier*t)**2 for s,f in zip(white_psdre[posindx],f[posindx2])]\n",
      "kernFreq = lambda t:[ s*np.sin(np.pi*fr*t)**4./(np.pi*fr*t)**2. for s,f in zip(white_psdre,f)]\n",
      "\n",
      "#out = 2. *trapz(kernFreq(tau)[1:-1],freq[1:-1])*10.**-24\n"
     ],
     "language": "python",
     "metadata": {},
     "outputs": [],
     "prompt_number": 548
    },
    {
     "cell_type": "code",
     "collapsed": false,
     "input": [
      "kernFreq = lambda t:[ s*np.sin(np.pi*fr*t)**4./(np.pi*fr*t)**2. for s,fr in zip(white_psdre[posindx],f[posindx2])]"
     ],
     "language": "python",
     "metadata": {},
     "outputs": [],
     "prompt_number": 549
    },
    {
     "cell_type": "code",
     "collapsed": false,
     "input": [
      "z = 1+1j\n",
      "x = z.real\n",
      "float(x)\n",
      "x"
     ],
     "language": "python",
     "metadata": {},
     "outputs": [
      {
       "metadata": {},
       "output_type": "pyout",
       "prompt_number": 550,
       "text": [
        "1.0"
       ]
      }
     ],
     "prompt_number": 550
    },
    {
     "cell_type": "code",
     "collapsed": false,
     "input": [
      "white_psdre"
     ],
     "language": "python",
     "metadata": {},
     "outputs": [
      {
       "metadata": {},
       "output_type": "pyout",
       "prompt_number": 498,
       "text": [
        "array([0.070433145783721, 0.0010657336687586345, 0.029362239989168544, ...,\n",
        "       0.17777821724041912, 0.06478455415781868, 0.1653722344170514], dtype=object)"
       ]
      }
     ],
     "prompt_number": 498
    },
    {
     "cell_type": "code",
     "collapsed": false,
     "input": [
      "simps(kernFreq(.01))*(f[2]-f[1])*10**-24"
     ],
     "language": "python",
     "metadata": {},
     "outputs": [
      {
       "metadata": {},
       "output_type": "pyout",
       "prompt_number": 501,
       "text": [
        "2.3392740349480274e-24"
       ]
      }
     ],
     "prompt_number": 501
    },
    {
     "cell_type": "code",
     "collapsed": false,
     "input": [
      "ta =1\n",
      "kf = np.array([np.sin(np.pi*fr*ta)**4 for s, fr in zip(white_psdre[posindx2],f[posindx2])])\n",
      "plt.subplot(211)\n",
      "plt.loglog(kf)\n",
      "plt.subplot(212)\n",
      "div = np.array([1./(np.pi*fr*ta)**2. for s, fr in zip(white_psdre[posindx2],f[posindx2])])\n",
      "plt.loglog(div)\n"
     ],
     "language": "python",
     "metadata": {},
     "outputs": [
      {
       "metadata": {},
       "output_type": "pyout",
       "prompt_number": 551,
       "text": [
        "[<matplotlib.lines.Line2D at 0x13f7bbf90>]"
       ]
      },
      {
       "metadata": {},
       "output_type": "display_data",
       "png": "[encoded data removed]",
       "text": [
        "<matplotlib.figure.Figure at 0x14021a250>"
       ]
      }
     ],
     "prompt_number": 551
    },
    {
     "cell_type": "code",
     "collapsed": false,
     "input": [
      "trapz(white_psdre[posindx2]*kf*div, f[posindx2])*2"
     ],
     "language": "python",
     "metadata": {},
     "outputs": [
      {
       "metadata": {},
       "output_type": "pyout",
       "prompt_number": 567,
       "text": [
        "2.5311258444233483e-24"
       ]
      }
     ],
     "prompt_number": 567
    },
    {
     "cell_type": "code",
     "collapsed": false,
     "input": [
      "len(white_psdre)"
     ],
     "language": "python",
     "metadata": {},
     "outputs": [
      {
       "metadata": {},
       "output_type": "pyout",
       "prompt_number": 556,
       "text": [
        "4097"
       ]
      }
     ],
     "prompt_number": 556
    },
    {
     "cell_type": "code",
     "collapsed": false,
     "input": [
      "trapz(white_psdre)*500*10**-3"
     ],
     "language": "python",
     "metadata": {},
     "outputs": [
      {
       "metadata": {},
       "output_type": "pyout",
       "prompt_number": 554,
       "text": [
        "1.969019200491092e-20"
       ]
      }
     ],
     "prompt_number": 554
    },
    {
     "cell_type": "code",
     "collapsed": false,
     "input": [
      "al(1.,white_psdre[posindx2],f[posindx2])"
     ],
     "language": "python",
     "metadata": {},
     "outputs": [
      {
       "metadata": {},
       "output_type": "pyout",
       "prompt_number": 573,
       "text": [
        "2.5311258444233497e-24"
       ]
      }
     ],
     "prompt_number": 573
    },
    {
     "cell_type": "code",
     "collapsed": false,
     "input": [
      "def al(tau, noise_psd, freq):\n",
      "    noise_psd = noise_psd*10.**24.\n",
      "    kern = lambda t:[ s*np.sin(np.pi*f*t)**4/(np.pi*carrier*t)**2 for s,f in zip(noise_psd,freq)]\n",
      "    kernFreq = lambda t:[ s*np.sin(np.pi*f*t)**4./(np.pi*f*t)**2. for s,f in zip(noise_psd,freq)]\n",
      "    if type == 'phase':\n",
      "        out =  2*trapz(kern(tau),freq)\n",
      "    elif type =='freq':\n",
      "        out = 2. *trapz(kernFreq(tau),freq)*10.**-24\n",
      "    return out"
     ],
     "language": "python",
     "metadata": {},
     "outputs": [],
     "prompt_number": 572
    },
    {
     "cell_type": "code",
     "collapsed": false,
     "input": [
      "ta=1.\n",
      "kf = np.array([np.sin(np.pi*fr*ta)**4 for s, fr in zip(white_psdre[posindx2],f[posindx2])])\n",
      "div = np.array([1./(np.pi*fr*ta)**2. for s, fr in zip(white_psdre[posindx2],f[posindx2])])\n",
      "out = 2*trapz(kf*div*white_psdre[posindx2],f[posindx2])"
     ],
     "language": "python",
     "metadata": {},
     "outputs": [],
     "prompt_number": 570
    },
    {
     "cell_type": "code",
     "collapsed": false,
     "input": [
      "out"
     ],
     "language": "python",
     "metadata": {},
     "outputs": [
      {
       "metadata": {},
       "output_type": "pyout",
       "prompt_number": 571,
       "text": [
        "2.5311258444233483e-24"
       ]
      }
     ],
     "prompt_number": 571
    },
    {
     "cell_type": "code",
     "collapsed": false,
     "input": [
      "plt.loglog(freq,data[:len(freq)]*1/(2*10**14)**2)"
     ],
     "language": "python",
     "metadata": {},
     "outputs": [
      {
       "metadata": {},
       "output_type": "pyout",
       "prompt_number": 575,
       "text": [
        "[<matplotlib.lines.Line2D at 0x1161615d0>]"
       ]
      },
      {
       "metadata": {},
       "output_type": "display_data",
       "png": "[encoded data removed]",
       "text": [
        "<matplotlib.figure.Figure at 0x140795cd0>"
       ]
      }
     ],
     "prompt_number": 575
    },
    {
     "cell_type": "code",
     "collapsed": false,
     "input": [
      "out=al(1,data[:len(freq)]*1/(2*10**14)**2,freq)"
     ],
     "language": "python",
     "metadata": {},
     "outputs": [],
     "prompt_number": 583
    },
    {
     "cell_type": "code",
     "collapsed": false,
     "input": [
      "tau =np.linspace(10**-3,.1,100)"
     ],
     "language": "python",
     "metadata": {},
     "outputs": [],
     "prompt_number": 589
    },
    {
     "cell_type": "code",
     "collapsed": false,
     "input": [
      "pl = [al(t,data[:len(freq)]*1/(2*10**14)**2,freq) for t in tau]"
     ],
     "language": "python",
     "metadata": {},
     "outputs": [],
     "prompt_number": 590
    },
    {
     "cell_type": "code",
     "collapsed": false,
     "input": [
      "plt.loglog(tau,np.sqrt(pl))"
     ],
     "language": "python",
     "metadata": {},
     "outputs": [
      {
       "metadata": {},
       "output_type": "pyout",
       "prompt_number": 591,
       "text": [
        "[<matplotlib.lines.Line2D at 0x141e61150>]"
       ]
      },
      {
       "metadata": {},
       "output_type": "display_data",
       "png": "[encoded data removed]",
       "text": [
        "<matplotlib.figure.Figure at 0x141e7f090>"
       ]
      }
     ],
     "prompt_number": 591
    },
    {
     "cell_type": "code",
     "collapsed": false,
     "input": [],
     "language": "python",
     "metadata": {},
     "outputs": []
    }
   ],
   "metadata": {}
  }
 ]
}